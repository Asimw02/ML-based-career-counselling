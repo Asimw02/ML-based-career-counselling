{
 "cells": [
  {
   "cell_type": "code",
   "execution_count": 36,
   "id": "606d88aa-3177-4a81-aa18-61229664fc3c",
   "metadata": {
    "tags": []
   },
   "outputs": [],
   "source": [
    "import pandas as pd\n",
    "import numpy as np"
   ]
  },
  {
   "cell_type": "code",
   "execution_count": 37,
   "id": "79fb3c89-ad9c-4fba-b639-b46339607b97",
   "metadata": {
    "tags": []
   },
   "outputs": [
    {
     "name": "stdout",
     "output_type": "stream",
     "text": [
      "    Unnamed: 0  Math  Business Studies  Environmental Studies  Social Science  \\\n",
      "0          NaN    70                83                     56              74   \n",
      "1          NaN    82                64                     51              57   \n",
      "2          NaN    57                92                     85              80   \n",
      "3          NaN    56                62                     96              89   \n",
      "4          NaN    96                50                     69              52   \n",
      "5          NaN    61                80                     88             100   \n",
      "6          NaN    83                65                     67              57   \n",
      "7          NaN    91                93                     91              82   \n",
      "8          NaN    72                60                     90              59   \n",
      "9          NaN    65                98                     71              61   \n",
      "10         NaN    74                91                     84              52   \n",
      "11         NaN    88                90                     68              75   \n",
      "12         NaN    53                73                     77              90   \n",
      "13         NaN    70                58                    100              78   \n",
      "14         NaN   100                91                     63              66   \n",
      "15         NaN    93                90                     92              91   \n",
      "16         NaN    95                70                    100              50   \n",
      "17         NaN    89                85                     63              73   \n",
      "18         NaN    80                53                     64              59   \n",
      "19         NaN    55                79                     55              65   \n",
      "20         NaN    92                89                     64              78   \n",
      "21         NaN    75                65                     77              87   \n",
      "22         NaN    71                76                     84             100   \n",
      "\n",
      "    Physics  Chemistry  Biology  English  German  Spanish  Class  Unnamed: 12  \\\n",
      "0        78         52       59      100      91       85      0          NaN   \n",
      "1        52         70       55       77      79       90      0          NaN   \n",
      "2        78         71       65       94      63       87      1          NaN   \n",
      "3        74         54       60       67      78       62      2          NaN   \n",
      "4        86         83       53       55      60       82      3          NaN   \n",
      "5        78         68       89       75      88       60      2          NaN   \n",
      "6        73         91       51       58      51       84      6          NaN   \n",
      "7        62         83       95       55      82       97      2          NaN   \n",
      "8        82         92       55       78      65       67      5          NaN   \n",
      "9        78         76       66       88      74       88      1          NaN   \n",
      "10       50         70       64       74      87       72      1          NaN   \n",
      "11       98         91       90       50      86       71      3          NaN   \n",
      "12       72         61       69       60      81       72      2          NaN   \n",
      "13       54        100       76       99      74       69      5          NaN   \n",
      "14       84         51       93       98      62       69      4          NaN   \n",
      "15       88         61       87       59      89       78      1          NaN   \n",
      "16       51         75       84       87      91       94      0          NaN   \n",
      "17       74         97       85       59      53       97      4          NaN   \n",
      "18       91         57       86       93      64       77      6          NaN   \n",
      "19       76         94       66       79      93       71      0          NaN   \n",
      "20       74         80       54       70      91       51      4          NaN   \n",
      "21       91         61       77       93      59       58      3          NaN   \n",
      "22       56         73       56       53      64       79      2          NaN   \n",
      "\n",
      "    Unnamed: 13  Unnamed: 14  Unnamed: 15 Unnamed: 16             Unnamed: 17  \n",
      "0           NaN          NaN          NaN         NaN                     NaN  \n",
      "1           NaN          NaN          NaN     Classes                   Field  \n",
      "2           NaN          NaN          NaN           0               Languages  \n",
      "3           NaN          NaN          NaN           1        Business studies  \n",
      "4           NaN          NaN          NaN           2              Humanities  \n",
      "5           NaN          NaN          NaN           3   Mathematical Sciences  \n",
      "6           NaN          NaN          NaN           4                 Finance  \n",
      "7           NaN          NaN          NaN           5  Environmental Sciences  \n",
      "8           NaN          NaN          NaN           6        Science research  \n",
      "9           NaN          NaN          NaN         NaN                     NaN  \n",
      "10          NaN          NaN          NaN         NaN                     NaN  \n",
      "11          NaN          NaN          NaN         NaN                     NaN  \n",
      "12          NaN          NaN          NaN         NaN                     NaN  \n",
      "13          NaN          NaN          NaN         NaN                     NaN  \n",
      "14          NaN          NaN          NaN         NaN                     NaN  \n",
      "15          NaN          NaN          NaN         NaN                     NaN  \n",
      "16          NaN          NaN          NaN         NaN                     NaN  \n",
      "17          NaN          NaN          NaN         NaN                     NaN  \n",
      "18          NaN          NaN          NaN         NaN                     NaN  \n",
      "19          NaN          NaN          NaN         NaN                     NaN  \n",
      "20          NaN          NaN          NaN         NaN                     NaN  \n",
      "21          NaN          NaN          NaN         NaN                     NaN  \n",
      "22          NaN          NaN          NaN         NaN                     NaN  \n"
     ]
    }
   ],
   "source": [
    "df=pd.read_excel(r'D:/Users/AW0811/Desktop/Feynn Labs Internship/marksdata.xlsx')\n",
    "print(df)"
   ]
  },
  {
   "cell_type": "code",
   "execution_count": 38,
   "id": "22c30907-7e76-4dec-a7b5-0ace6e1187e1",
   "metadata": {
    "tags": []
   },
   "outputs": [
    {
     "data": {
      "text/plain": [
       "array([[ 70,  83,  56,  74,  78,  52,  59, 100,  91,  85],\n",
       "       [ 82,  64,  51,  57,  52,  70,  55,  77,  79,  90],\n",
       "       [ 57,  92,  85,  80,  78,  71,  65,  94,  63,  87],\n",
       "       [ 56,  62,  96,  89,  74,  54,  60,  67,  78,  62],\n",
       "       [ 96,  50,  69,  52,  86,  83,  53,  55,  60,  82],\n",
       "       [ 61,  80,  88, 100,  78,  68,  89,  75,  88,  60],\n",
       "       [ 83,  65,  67,  57,  73,  91,  51,  58,  51,  84],\n",
       "       [ 91,  93,  91,  82,  62,  83,  95,  55,  82,  97],\n",
       "       [ 72,  60,  90,  59,  82,  92,  55,  78,  65,  67],\n",
       "       [ 65,  98,  71,  61,  78,  76,  66,  88,  74,  88],\n",
       "       [ 74,  91,  84,  52,  50,  70,  64,  74,  87,  72],\n",
       "       [ 88,  90,  68,  75,  98,  91,  90,  50,  86,  71],\n",
       "       [ 53,  73,  77,  90,  72,  61,  69,  60,  81,  72],\n",
       "       [ 70,  58, 100,  78,  54, 100,  76,  99,  74,  69],\n",
       "       [100,  91,  63,  66,  84,  51,  93,  98,  62,  69],\n",
       "       [ 93,  90,  92,  91,  88,  61,  87,  59,  89,  78],\n",
       "       [ 95,  70, 100,  50,  51,  75,  84,  87,  91,  94],\n",
       "       [ 89,  85,  63,  73,  74,  97,  85,  59,  53,  97],\n",
       "       [ 80,  53,  64,  59,  91,  57,  86,  93,  64,  77],\n",
       "       [ 55,  79,  55,  65,  76,  94,  66,  79,  93,  71],\n",
       "       [ 92,  89,  64,  78,  74,  80,  54,  70,  91,  51],\n",
       "       [ 75,  65,  77,  87,  91,  61,  77,  93,  59,  58],\n",
       "       [ 71,  76,  84, 100,  56,  73,  56,  53,  64,  79]], dtype=int64)"
      ]
     },
     "execution_count": 38,
     "metadata": {},
     "output_type": "execute_result"
    }
   ],
   "source": [
    "x=df[['Math','Business Studies','Environmental Studies','Social Science','Physics','Chemistry','Biology','English','German','Spanish']].values\n",
    "x"
   ]
  },
  {
   "cell_type": "code",
   "execution_count": 39,
   "id": "753663f0-dfd9-430a-8469-4d16c10dd42f",
   "metadata": {
    "tags": []
   },
   "outputs": [
    {
     "data": {
      "text/plain": [
       "0     0\n",
       "1     0\n",
       "2     1\n",
       "3     2\n",
       "4     3\n",
       "5     2\n",
       "6     6\n",
       "7     2\n",
       "8     5\n",
       "9     1\n",
       "10    1\n",
       "11    3\n",
       "12    2\n",
       "13    5\n",
       "14    4\n",
       "15    1\n",
       "16    0\n",
       "17    4\n",
       "18    6\n",
       "19    0\n",
       "20    4\n",
       "21    3\n",
       "22    2\n",
       "Name: Class, dtype: int64"
      ]
     },
     "execution_count": 39,
     "metadata": {},
     "output_type": "execute_result"
    }
   ],
   "source": [
    "y=df['Class']\n",
    "y"
   ]
  },
  {
   "cell_type": "code",
   "execution_count": 40,
   "id": "b1201fe6-9da1-4e79-aa5b-b3547bb4467b",
   "metadata": {
    "tags": []
   },
   "outputs": [],
   "source": [
    "from sklearn.neighbors import KNeighborsClassifier\n",
    "k=2"
   ]
  },
  {
   "cell_type": "code",
   "execution_count": 41,
   "id": "b4691f37-9cda-4036-a7cd-bcee2ef171fe",
   "metadata": {
    "tags": []
   },
   "outputs": [],
   "source": [
    "neigh=KNeighborsClassifier (n_neighbors=k).fit(x,y)"
   ]
  },
  {
   "cell_type": "code",
   "execution_count": 35,
   "id": "82d655fa-e609-4ac0-bb40-33f89f55536a",
   "metadata": {
    "tags": []
   },
   "outputs": [
    {
     "name": "stdout",
     "output_type": "stream",
     "text": [
      "Your aptitude lies in Finance\n"
     ]
    }
   ],
   "source": [
    "x_test=np.array([90,98,60,74,76,56,71,60,60,60]).reshape(1,-1)\n",
    "y_pred=neigh.predict(x_test)\n",
    "if y_pred==0:\n",
    "    print('Your aptitude lies in Languages')\n",
    "elif y_pred==1:\n",
    "    print('Your aptitude lies in Business studies')\n",
    "elif y_pred==2:\n",
    "    print('Your aptitude lies in Humanities')\n",
    "elif y_pred==3:\n",
    "    print('Your aptitude lies in Mathematical Sciences')\n",
    "elif y_pred==4:\n",
    "    print('Your aptitude lies in Finance')\n",
    "elif y_pred==5:\n",
    "    print('Your aptitude lies in Environmental Sciences')\n",
    "elif y_pred==6:\n",
    "    print('Your aptitude lies in Science research')\n",
    "else:\n",
    "    print('Invalid')"
   ]
  },
  {
   "cell_type": "code",
   "execution_count": null,
   "id": "1eb46478-1d93-4454-9e85-2d6006b56f19",
   "metadata": {},
   "outputs": [],
   "source": []
  }
 ],
 "metadata": {
  "kernelspec": {
   "display_name": "Python 3 (ipykernel)",
   "language": "python",
   "name": "python3"
  },
  "language_info": {
   "codemirror_mode": {
    "name": "ipython",
    "version": 3
   },
   "file_extension": ".py",
   "mimetype": "text/x-python",
   "name": "python",
   "nbconvert_exporter": "python",
   "pygments_lexer": "ipython3",
   "version": "3.10.4"
  }
 },
 "nbformat": 4,
 "nbformat_minor": 5
}
